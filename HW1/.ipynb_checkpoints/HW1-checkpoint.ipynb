{
 "cells": [
  {
   "cell_type": "code",
   "execution_count": 59,
   "metadata": {
    "collapsed": false
   },
   "outputs": [],
   "source": [
    "import matplotlib.pyplot as plt\n",
    "import HW1\n",
    "\n",
    "%matplotlib inline\n",
    "\n"
   ]
  },
  {
   "cell_type": "code",
   "execution_count": 63,
   "metadata": {
    "collapsed": false
   },
   "outputs": [
    {
     "data": {
      "image/png": "[encoded data removed]",
      "text/plain": [
       "<matplotlib.figure.Figure at 0x10bba6850>"
      ]
     },
     "metadata": {},
     "output_type": "display_data"
    }
   ],
   "source": [
    "    num_iterations = 0\n",
    "    num_training_points = 10\n",
    "    num_misclassified_points = 0\n",
    "\n",
    "    # create the target function\n",
    "    f = (np.random.rand(2, 2) - 0.5) * 2\n",
    "    # f = np.array([[0,0], [1,1]])\n",
    "\n",
    "    # a = slope, b = -1, c = -(y-intercept)\n",
    "    a = (f[0][1] - f[1][1]) / (f[0][0] - f[1][0])\n",
    "    b = -1\n",
    "    c = f[0][1] - (a * f[0][0])\n",
    "\n",
    "    # for every iteration of the PLA, determine whether or not the points have been classified correctly or not.\n",
    "    # we will say every point to the right of f is classified as '+', and every point to the left of f is classified as '-'\n",
    "\n",
    "    # initialize weights to be 0\n",
    "    w = np.array([[0, 0, 0]])\n",
    "    misclassified_points = np.array([[]])\n",
    "    training_points = (np.random.rand(num_training_points, 2) - 0.5) * 2\n",
    "    plt.plot(training_points[:,0], training_points[:,1], 'r+')\n",
    "    x = np.arange(-2, 2, 0.2)\n",
    "    plt.plot(x, a * x + c)\n",
    "    plt.xlim(-1,1)\n",
    "    plt.ylim(-1,1)\n",
    "    for num in xrange(num_training_points):\n",
    "        if (training_points[num][1] > a * training_points[num][0] + c):\n",
    "          plt.plot(training_points[num][0], training_points[num][1], 'r+')\n",
    "        else:\n",
    "          plt.plot(training_points[num][0], training_points[num][1], 'ro')\n",
    "    plt.show()"
   ]
  },
  {
   "cell_type": "code",
   "execution_count": 77,
   "metadata": {
    "collapsed": false
   },
   "outputs": [
    {
     "name": "stdout",
     "output_type": "stream",
     "text": [
      "[[ 0.59755868  0.73429528]\n",
      " [ 0.36843958  0.01056091]\n",
      " [-0.45738833  0.27207965]\n",
      " [ 0.25577417 -0.55803196]\n",
      " [ 0.95488622 -0.13318896]\n",
      " [ 0.37544682 -0.65303555]\n",
      " [-0.38772593 -0.6569893 ]\n",
      " [-0.03901252  0.31752522]\n",
      " [ 0.45535752 -0.57970627]\n",
      " [-0.27400198 -0.54490521]]\n"
     ]
    }
   ],
   "source": [
    "    print(training_points)"
   ]
  },
  {
   "cell_type": "code",
   "execution_count": 73,
   "metadata": {
    "collapsed": false
   },
   "outputs": [
    {
     "name": "stdout",
     "output_type": "stream",
     "text": [
      "1.08441868801 -1 -0.324369283188\n"
     ]
    }
   ],
   "source": [
    "print a, b, c"
   ]
  },
  {
   "cell_type": "code",
   "execution_count": 80,
   "metadata": {
    "collapsed": false
   },
   "outputs": [
    {
     "name": "stdout",
     "output_type": "stream",
     "text": [
      "('======ITERATION # ', 1)\n"
     ]
    },
    {
     "ename": "IndexError",
     "evalue": "index out of bounds",
     "output_type": "error",
     "traceback": [
      "\u001b[0;31m---------------------------------------------------------------------------\u001b[0m",
      "\u001b[0;31mIndexError\u001b[0m                                Traceback (most recent call last)",
      "\u001b[0;32m<ipython-input-80-953f0a6ec4fd>\u001b[0m in \u001b[0;36m<module>\u001b[0;34m()\u001b[0m\n\u001b[1;32m     11\u001b[0m \u001b[0;34m\u001b[0m\u001b[0m\n\u001b[1;32m     12\u001b[0m         \u001b[0;31m# determine perceptron output\u001b[0m\u001b[0;34m\u001b[0m\u001b[0;34m\u001b[0m\u001b[0m\n\u001b[0;32m---> 13\u001b[0;31m         \u001b[0mperceptron_class\u001b[0m \u001b[0;34m=\u001b[0m \u001b[0mint\u001b[0m\u001b[0;34m(\u001b[0m\u001b[0mnp\u001b[0m\u001b[0;34m.\u001b[0m\u001b[0msign\u001b[0m\u001b[0;34m(\u001b[0m\u001b[0;36m1\u001b[0m \u001b[0;34m*\u001b[0m \u001b[0mw\u001b[0m\u001b[0;34m[\u001b[0m\u001b[0;36m0\u001b[0m\u001b[0;34m]\u001b[0m\u001b[0;34m[\u001b[0m\u001b[0;36m0\u001b[0m\u001b[0;34m]\u001b[0m \u001b[0;34m+\u001b[0m \u001b[0mtraining_points\u001b[0m\u001b[0;34m[\u001b[0m\u001b[0mnum\u001b[0m\u001b[0;34m]\u001b[0m\u001b[0;34m[\u001b[0m\u001b[0;36m0\u001b[0m\u001b[0;34m]\u001b[0m \u001b[0;34m*\u001b[0m \u001b[0mw\u001b[0m\u001b[0;34m[\u001b[0m\u001b[0;36m0\u001b[0m\u001b[0;34m]\u001b[0m\u001b[0;34m[\u001b[0m\u001b[0;36m1\u001b[0m\u001b[0;34m]\u001b[0m \u001b[0;34m+\u001b[0m \u001b[0mtraining_points\u001b[0m\u001b[0;34m[\u001b[0m\u001b[0mnum\u001b[0m\u001b[0;34m]\u001b[0m\u001b[0;34m[\u001b[0m\u001b[0;36m1\u001b[0m\u001b[0;34m]\u001b[0m \u001b[0;34m*\u001b[0m \u001b[0mw\u001b[0m\u001b[0;34m[\u001b[0m\u001b[0;36m0\u001b[0m\u001b[0;34m]\u001b[0m\u001b[0;34m[\u001b[0m\u001b[0;36m2\u001b[0m\u001b[0;34m]\u001b[0m\u001b[0;34m)\u001b[0m\u001b[0;34m)\u001b[0m\u001b[0;34m\u001b[0m\u001b[0m\n\u001b[0m\u001b[1;32m     14\u001b[0m \u001b[0;34m\u001b[0m\u001b[0m\n\u001b[1;32m     15\u001b[0m       \u001b[0;31m# see how our hypothesis classifies it based off of w\u001b[0m\u001b[0;34m\u001b[0m\u001b[0;34m\u001b[0m\u001b[0m\n",
      "\u001b[0;31mIndexError\u001b[0m: index out of bounds"
     ]
    }
   ],
   "source": [
    "num_iterations = 0\n",
    "misclassified_points_index = []\n",
    "w = np.array([[0, 0, 0]])\n",
    "while num_iterations < 50:\n",
    "    num_iterations += 1\n",
    "    print(\"======ITERATION # \", num_iterations)\n",
    "\n",
    "    for num in xrange(num_training_points):\n",
    "        # see if point is +/- based off of its relation to f\n",
    "        true_class = 1 if (training_points[num][1] > a * training_points[num][0] + c) else -1\n",
    "\n",
    "        # determine perceptron output \n",
    "        perceptron_class = int(np.sign(1 * w[0][0] + training_points[num][0] * w[0][1] + training_points[num][1] * w[0][2]))\n",
    "\n",
    "      # see how our hypothesis classifies it based off of w\n",
    "        if perceptron_class != true_class:\n",
    "            # print(\"==========\")\n",
    "            # print(\"MISCLASSIFIED\")\n",
    "            # print(\"perceptron_class \", perceptron_class)\n",
    "            # print(\"w \", w)\n",
    "            # print(\"true class \", true_class)\n",
    "            # print(\"current point \", training_points[num,:])\n",
    "            misclassified_points_index.append(num)\n",
    "            num_misclassified_points += 1\n",
    "\n",
    "        print(\"==========\")\n",
    "        if num_misclassified_points > 0:\n",
    "          # pick a random misclassified point and update w. Then reset num_misclassified_points\n",
    "            rand_index = random.randint(0, len(misclassified_points_index) - 1)\n",
    "            # true_class = 1 if ((a * training_points[rand_index][0]) + (b * training_points[rand_index][1]) > c) else -1\n",
    "            true_class = 1 if (training_points[rand_index][1] > a * training_points[rand_index][0] + c) else -1\n",
    "            print(\"NUM MISCLASS POINTS \", num_misclassified_points)\n",
    "            print(\"CHOSEN CLASS \", true_class)\n",
    "            print(\"CHOSEN POINT to update w \", training_points[rand_index,:])\n",
    "            x_hat = np.array([1])\n",
    "            x_hat = np.append(x_hat, training_points[rand_index,:])\n",
    "            w = w + true_class * x_hat\n",
    "            w = w / (np.linalg.norm(w)) # normalize w to prevent it from blowing up\n",
    "\n",
    "            num_misclassified_points = 0\n",
    "            misclassified_points_index = []\n",
    "            print(\"UPDATED w\", w)\n",
    "        else:\n",
    "            print(\"CONVERGED at \", num_iterations)\n",
    "            print(w)\n",
    "            break"
   ]
  },
  {
   "cell_type": "code",
   "execution_count": null,
   "metadata": {
    "collapsed": true
   },
   "outputs": [],
   "source": []
  }
 ],
 "metadata": {
  "kernelspec": {
   "display_name": "Python 2",
   "language": "python",
   "name": "python2"
  },
  "language_info": {
   "codemirror_mode": {
    "name": "ipython",
    "version": 2
   },
   "file_extension": ".py",
   "mimetype": "text/x-python",
   "name": "python",
   "nbconvert_exporter": "python",
   "pygments_lexer": "ipython2",
   "version": "2.7.10"
  }
 },
 "nbformat": 4,
 "nbformat_minor": 0
}

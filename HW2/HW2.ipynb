{
 "cells": [
  {
   "cell_type": "code",
   "execution_count": 48,
   "metadata": {
    "collapsed": true
   },
   "outputs": [],
   "source": [
    "import numpy as np\n",
    "import matplotlib.pyplot as plt\n",
    "\n",
    "%matplotlib inline"
   ]
  },
  {
   "cell_type": "code",
   "execution_count": 71,
   "metadata": {
    "collapsed": true
   },
   "outputs": [],
   "source": [
    "def flip_coins(num_coins, num_flips):\n",
    "    C = np.random.randint(2, size=(num_coins, num_flips))\n",
    "    min_index = np.argmin(np.sum(C, axis=1))\n",
    "    rand_index = np.random.randint(num_coins)\n",
    "    # print min_index, rand_index\n",
    "#     v_min = np.sum(C[min_index,:])/float(num_flips)\n",
    "#     v_rand = np.sum(C[rand_index,:])/float(num_flips)\n",
    "#     v_1 = np.sum(C[1,:])/float(num_flips)\n",
    "    min_sum = np.sum(C[min_index,:])\n",
    "    rand_sum = np.sum(C[rand_index,:])\n",
    "    one_sum = np.sum(C[1,:])\n",
    "    return min_sum, rand_sum, one_sum\n"
   ]
  },
  {
   "cell_type": "code",
   "execution_count": 99,
   "metadata": {
    "collapsed": true
   },
   "outputs": [],
   "source": [
    "def plot_histogram(range, weights, bins):\n",
    "    plt.hist(range, weights=weights, bins=bins)\n",
    "    plt.show()"
   ]
  },
  {
   "cell_type": "code",
   "execution_count": 100,
   "metadata": {
    "collapsed": false
   },
   "outputs": [],
   "source": [
    "def hoeffding_experiment(num_run_times, num_coins, num_flips):\n",
    "    min_sum = 0\n",
    "    rand_sum = 0\n",
    "    one_sum = 0\n",
    "    min_sum_hist = np.zeros([num_flips+1,1])\n",
    "    rand_sum_hist = np.zeros([num_flips+1,1])\n",
    "    one_sum_hist = np.zeros([num_flips+1,1])\n",
    "    \n",
    "    for run_num in xrange(num_run_times):\n",
    "        min_sum_, rand_sum_, one_sum_ = flip_coins(num_coins, num_flips)\n",
    "        rand_sum += rand_sum_\n",
    "        one_sum += one_sum_\n",
    "        min_sum_hist[min_sum_] += 1\n",
    "        rand_sum_hist[rand_sum_] += 1\n",
    "        one_sum_hist[one_sum_] += 1\n",
    "    \n",
    "    plot_histogram(range(0,11), weights=rand_sum_hist, bins=11)\n",
    "    plot_histogram(range(0,11), weights=min_sum_hist, bins=11)\n",
    "    plot_histogram(range(0,11), weights=one_sum_hist, bins=11)\n",
    "    \n",
    "    print \"min average: \", min_sum/(float(num_run_times) * num_flips)\n",
    "    print \"one average: \", one_sum/(float(num_run_times) * num_flips)\n",
    "    print \"rand average: \", rand_sum/(float(num_run_times) * num_flips)"
   ]
  },
  {
   "cell_type": "code",
   "execution_count": 102,
   "metadata": {
    "collapsed": false
   },
   "outputs": [
    {
     "data": {
      "image/png": "[encoded data removed]",
      "text/plain": [
       "<matplotlib.figure.Figure at 0x114115d90>"
      ]
     },
     "metadata": {},
     "output_type": "display_data"
    },
    {
     "data": {
      "image/png": "[encoded data removed]",
      "text/plain": [
       "<matplotlib.figure.Figure at 0x111156850>"
      ]
     },
     "metadata": {},
     "output_type": "display_data"
    },
    {
     "data": {
      "image/png": "[encoded data removed]",
      "text/plain": [
       "<matplotlib.figure.Figure at 0x114388f50>"
      ]
     },
     "metadata": {},
     "output_type": "display_data"
    },
    {
     "name": "stdout",
     "output_type": "stream",
     "text": [
      "min average:  0.0\n",
      "one average:  0.499378\n",
      "rand average:  0.50009\n"
     ]
    }
   ],
   "source": [
    "num_coins = 1000\n",
    "num_flips = 10\n",
    "num_run_times = 100000\n",
    "min_sum = 0\n",
    "\n",
    "hoeffding_experiment(num_run_times, num_coins, num_flips)"
   ]
  },
  {
   "cell_type": "code",
   "execution_count": 103,
   "metadata": {
    "collapsed": true
   },
   "outputs": [],
   "source": [
    "%magic #linear regression"
   ]
  },
  {
   "cell_type": "code",
   "execution_count": 214,
   "metadata": {
    "collapsed": true
   },
   "outputs": [],
   "source": [
    "import copy\n",
    "import numpy as np\n",
    "import matplotlib.pyplot as plt\n",
    "import random\n",
    "\n",
    "from numpy.linalg import inv\n",
    "\n",
    "def generate_dataset(num_of_points=10):\n",
    "    X = np.ones((num_of_points, 3)) # these are 1 because of x0 = 1 for the constant term\n",
    "    X[:, 1:] = np.random.uniform(-1, 1, (num_of_points, 2))\n",
    "    return X\n",
    "\n",
    "def classify(X, w, y=None):\n",
    "    return np.sign(np.dot(X, w))\n",
    "\n",
    "def get_average_num_iterations(num_runs=1, num_training_points=10, num_test_points=1000, plot=False):\n",
    "    num_iteration = np.zeros((num_runs, 1))\n",
    "    num_prob = np.zeros((num_runs, 1))\n",
    "    index = 0\n",
    "\n",
    "    while index < num_runs:\n",
    "        num_iteration[index], num_prob[index] = iterate(num_training_points, num_test_points, plot)\n",
    "        index += 1\n",
    "\n",
    "    return np.sum(num_iteration)/num_runs, np.sum(num_prob)/num_runs\n",
    "\n",
    "def pla_iterate(num_training_points, num_test_points, plot, coeff=None, X=None, w=None):\n",
    "    # create target function and training set\n",
    "    if coeff is None:\n",
    "        coeff = np.random.uniform(-1, 1, (3, 1))\n",
    "    if X is None:\n",
    "        X = generate_dataset(num_training_points)\n",
    "    y_true = classify(X, coeff)\n",
    "\n",
    "    # initialize weights\n",
    "    if w is None:\n",
    "        w = np.zeros((3, 1))\n",
    "    num_iterations = 0\n",
    "\n",
    "    # inputs: X, w, y_true\n",
    "    (num_iterations, w) = get_weights_pla(X, w, y_true)\n",
    "    while True:\n",
    "        y = classify(X, w)\n",
    "        error_indexes = copy.copy(np.where(y != y_true)[0]) # take first element because that contains the indices\n",
    "  \n",
    "        if len(error_indexes) > 0:\n",
    "            np.random.shuffle(error_indexes)\n",
    "            chosen_index = error_indexes[0]\n",
    "\n",
    "            chosen_x = X[chosen_index,:]\n",
    "            chosen_x = chosen_x.reshape(3,1) # need to reshape to create a column vector of these values\n",
    "            w = w + y_true[chosen_index] * chosen_x\n",
    "\n",
    "            num_iterations += 1\n",
    "        else:\n",
    "            break\n",
    "\n",
    "    # test how well w classifies the training points\n",
    "    X_test = generate_dataset(num_test_points)\n",
    "    y_true = classify(X_test, coeff)\n",
    "    y = classify(X_test, w)\n",
    "    sample_prob = np.sum(y != y_true)/float(num_test_points)\n",
    "\n",
    "    if plot:\n",
    "        plot_points(X, coeff, w)\n",
    "\n",
    "    return num_iterations, sample_prob\n",
    "\n",
    "def plot_points(X, coeff, w):\n",
    "    x = np.arange(-2, 2, 0.2)\n",
    "    plt.plot(x, (-coeff[1]*x - coeff[0])/coeff[2], '--')\n",
    "    plt.plot(x, (-w[1]*x - w[0])/w[2], 'r--')\n",
    "    y_true = classify(X, coeff)\n",
    "\n",
    "    for num in xrange(len(y_true)):\n",
    "        if y_true[num] > 0:\n",
    "            plt.plot(X[num][1], X[num][2], 'r+')\n",
    "        else:\n",
    "            plt.plot(X[num][1], X[num][2], 'ro')\n",
    "\n",
    "    plt.xlim(-1,1)\n",
    "    plt.ylim(-1,1)\n",
    "    plt.show()"
   ]
  },
  {
   "cell_type": "code",
   "execution_count": null,
   "metadata": {
    "collapsed": true
   },
   "outputs": [],
   "source": [
    "def get_weights_pla(X, w, y_true):\n",
    "    num_iterations = 0\n",
    "    \n",
    "    while True:\n",
    "        y = classify(X, w)\n",
    "        error_indexes = copy.copy(np.where(y != y_true)[0]) # take first element because that contains the indices\n",
    "  \n",
    "        if len(error_indexes) > 0:\n",
    "            np.random.shuffle(error_indexes)\n",
    "            chosen_index = error_indexes[0]\n",
    "\n",
    "            chosen_x = X[chosen_index,:]\n",
    "            chosen_x = chosen_x.reshape(3,1) # need to reshape to create a column vector of these values\n",
    "            w = w + y_true[chosen_index] * chosen_x\n",
    "\n",
    "            num_iterations += 1\n",
    "        else:\n",
    "            break\n",
    "    \n",
    "    return (num_iterations, w)"
   ]
  },
  {
   "cell_type": "code",
   "execution_count": null,
   "metadata": {
    "collapsed": true
   },
   "outputs": [],
   "source": [
    "def get_performance(num_test_points, coeff, w, X_test=None):\n",
    "    if X_test is None:\n",
    "        X_test = generate_dataset(num_test_points)\n",
    "    y_true = classify(X_test, coeff)\n",
    "    y = classify(X_test, w)\n",
    "    sample_error_prob = np.sum(y != y_true)/float(num_test_points)\n",
    "    \n",
    "    return sample_error_prob"
   ]
  },
  {
   "cell_type": "code",
   "execution_count": 215,
   "metadata": {
    "collapsed": true
   },
   "outputs": [],
   "source": [
    "def linear_regression_train(num_training_points, coeff, X=None):\n",
    "    if X is None:\n",
    "        X = generate_dataset(num_training_points)\n",
    "    y = classify(X, coeff)\n",
    "    \n",
    "    pseudo_inv_X = np.dot(inv(np.dot(X.T, X)), X.T)\n",
    "    w = np.dot(pseudo_inv_X, y)\n",
    "    \n",
    "    y_w = classify(X, w)\n",
    "    num_misclassified_points = np.sum(y_w != y)\n",
    "    \n",
    "    return (w, num_misclassified_points / float(num_training_points))\n",
    "\n",
    "def linear_regression_test(num_test_points, coeff, w):\n",
    "    X = generate_dataset(num_test_points)\n",
    "    y = classify(X, coeff)\n",
    "    \n",
    "    y_w = classify(X, w)\n",
    "    num_misclassified_points = np.sum(y_w != y)\n",
    "            \n",
    "    return num_misclassified_points / float(num_test_points)"
   ]
  },
  {
   "cell_type": "code",
   "execution_count": 216,
   "metadata": {
    "collapsed": true
   },
   "outputs": [],
   "source": [
    "def get_average_sample_error(num_runs, num_training_points, num_test_points, plot=False):\n",
    "    in_sample_error = 0\n",
    "    out_sample_error = 0\n",
    "    iteration = 0\n",
    "        \n",
    "    while iteration < num_runs:\n",
    "        coeff = np.random.uniform(-1, 1, (3, 1))\n",
    "        (w, in_sample_error_iteration) = linear_regression_train(num_training_points, coeff)\n",
    "        out_sample_error_iteration = linear_regression_test(num_test_points, coeff, w)\n",
    "        in_sample_error += in_sample_error_iteration\n",
    "        out_sample_error += out_sample_error_iteration\n",
    "        \n",
    "        iteration += 1\n",
    "    \n",
    "    return (in_sample_error / num_runs, out_sample_error / num_runs)"
   ]
  },
  {
   "cell_type": "code",
   "execution_count": 217,
   "metadata": {
    "collapsed": false
   },
   "outputs": [
    {
     "name": "stdout",
     "output_type": "stream",
     "text": [
      "Ein = 0.03452, Eout = 0.04022\n"
     ]
    }
   ],
   "source": [
    "(Ein, Eout) = get_average_sample_error(1000, 100, 1000, False)\n",
    "print \"Ein = %.5f, Eout = %.5f\" % (Ein, Eout) #problem 5 and 6 answer"
   ]
  },
  {
   "cell_type": "code",
   "execution_count": 218,
   "metadata": {
    "collapsed": false
   },
   "outputs": [],
   "source": [
    "# def perceptron_learning_algorithm_with_initial_weights(initial_w):\n",
    "def pla_iterate_with_lr(num_runs):\n",
    "    iter = 0\n",
    "    total_num_iterations = 0\n",
    "    \n",
    "    while iter < num_runs:\n",
    "        iter += 1\n",
    "        N = 10\n",
    "        coeff = np.random.uniform(-1, 1, (3, 1))\n",
    "        X = generate_dataset(N)\n",
    "        (initial_w, in_sample_error) = linear_regression_train(N, coeff, X)\n",
    "        (num_iterations, sample_prob) = pla_iterate(1000, 10, False, coeff, X, initial_w)\n",
    "        total_num_iterations += num_iterations\n",
    "        \n",
    "    print total_num_iterations / float(num_runs)"
   ]
  },
  {
   "cell_type": "code",
   "execution_count": 219,
   "metadata": {
    "collapsed": false
   },
   "outputs": [
    {
     "name": "stdout",
     "output_type": "stream",
     "text": [
      "2.574\n"
     ]
    }
   ],
   "source": [
    "pla_iterate_with_lr(1000)"
   ]
  },
  {
   "cell_type": "code",
   "execution_count": null,
   "metadata": {
    "collapsed": true
   },
   "outputs": [],
   "source": []
  }
 ],
 "metadata": {
  "kernelspec": {
   "display_name": "Python 2",
   "language": "python",
   "name": "python2"
  },
  "language_info": {
   "codemirror_mode": {
    "name": "ipython",
    "version": 2
   },
   "file_extension": ".py",
   "mimetype": "text/x-python",
   "name": "python",
   "nbconvert_exporter": "python",
   "pygments_lexer": "ipython2",
   "version": "2.7.10"
  }
 },
 "nbformat": 4,
 "nbformat_minor": 0
}

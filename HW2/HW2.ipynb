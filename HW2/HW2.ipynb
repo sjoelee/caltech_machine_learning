{
 "cells": [
  {
   "cell_type": "code",
   "execution_count": 48,
   "metadata": {
    "collapsed": true
   },
   "outputs": [],
   "source": [
    "import numpy as np\n",
    "import matplotlib.pyplot as plt\n",
    "\n",
    "%matplotlib inline"
   ]
  },
  {
   "cell_type": "code",
   "execution_count": 524,
   "metadata": {
    "collapsed": true
   },
   "outputs": [],
   "source": [
    "def flip_coins(num_coins, num_flips):\n",
    "    C = np.random.randint(2, size=(num_coins, num_flips)) #bernoulli from scipy. and linalg.pinv\n",
    "    min_index = np.argmin(np.sum(C, axis=1))\n",
    "    rand_index = np.random.randint(num_coins)\n",
    "    # print min_index, rand_index\n",
    "    v_min = np.sum(C[min_index,:])/float(num_flips)\n",
    "    v_rand = np.sum(C[rand_index,:])/float(num_flips)\n",
    "    v_1 = np.sum(C[1,:])/float(num_flips)\n",
    "    \n",
    "#     print v_min, v_rand, v_1\n",
    "    min_sum = np.sum(C[min_index,:])\n",
    "    rand_sum = np.sum(C[rand_index,:])\n",
    "    one_sum = np.sum(C[1,:])\n",
    "    return min_sum, rand_sum, one_sum\n"
   ]
  },
  {
   "cell_type": "code",
   "execution_count": 99,
   "metadata": {
    "collapsed": true
   },
   "outputs": [],
   "source": [
    "def plot_histogram(range, weights, bins):\n",
    "    plt.hist(range, weights=weights, bins=bins)\n",
    "    plt.show()"
   ]
  },
  {
   "cell_type": "code",
   "execution_count": 528,
   "metadata": {
    "collapsed": false
   },
   "outputs": [],
   "source": [
    "def hoeffding_experiment(num_run_times, num_coins, num_flips):\n",
    "    min_sum = 0\n",
    "    rand_sum = 0\n",
    "    one_sum = 0\n",
    "    min_sum_hist = np.zeros([num_flips+1,1])\n",
    "    rand_sum_hist = np.zeros([num_flips+1,1])\n",
    "    one_sum_hist = np.zeros([num_flips+1,1])\n",
    "    \n",
    "    for run_num in xrange(num_run_times):\n",
    "        min_sum_, rand_sum_, one_sum_ = flip_coins(num_coins, num_flips)\n",
    "        rand_sum += rand_sum_\n",
    "        one_sum += one_sum_\n",
    "        min_sum_hist[min_sum_] += 1\n",
    "        rand_sum_hist[rand_sum_] += 1\n",
    "        one_sum_hist[one_sum_] += 1\n",
    "    \n",
    "    plot_histogram(range(0,11), weights=rand_sum_hist, bins=11)\n",
    "    plot_histogram(range(0,11), weights=min_sum_hist, bins=11)\n",
    "    plot_histogram(range(0,11), weights=one_sum_hist, bins=11)\n",
    "    print np.mean(min_sum_hist) / (num_run_times * num_flips)\n",
    "    print \"min average: \", min_sum/(float(num_run_times) * num_flips)\n",
    "    print \"one average: \", one_sum/(float(num_run_times) * num_flips)\n",
    "    print \"rand average: \", rand_sum/(float(num_run_times) * num_flips)"
   ]
  },
  {
   "cell_type": "code",
   "execution_count": 529,
   "metadata": {
    "collapsed": false
   },
   "outputs": [
    {
     "data": {
      "image/png": "[encoded data removed]",
      "text/plain": [
       "<matplotlib.figure.Figure at 0x115df9110>"
      ]
     },
     "metadata": {},
     "output_type": "display_data"
    },
    {
     "data": {
      "image/png": "[encoded data removed]",
      "text/plain": [
       "<matplotlib.figure.Figure at 0x11424c810>"
      ]
     },
     "metadata": {},
     "output_type": "display_data"
    },
    {
     "data": {
      "image/png": "[encoded data removed]",
      "text/plain": [
       "<matplotlib.figure.Figure at 0x114011dd0>"
      ]
     },
     "metadata": {},
     "output_type": "display_data"
    },
    {
     "name": "stdout",
     "output_type": "stream",
     "text": [
      "0.00909090909091\n",
      "min average:  0.0\n",
      "one average:  0.500426\n",
      "rand average:  0.500956\n"
     ]
    }
   ],
   "source": [
    "num_coins = 1000\n",
    "num_flips = 10\n",
    "num_run_times = 100000\n",
    "min_sum = 0\n",
    "\n",
    "hoeffding_experiment(num_run_times, num_coins, num_flips)"
   ]
  },
  {
   "cell_type": "markdown",
   "metadata": {},
   "source": [
    "<h2>Linear Regression</h2>"
   ]
  },
  {
   "cell_type": "markdown",
   "metadata": {},
   "source": [
    "<h3>Problem 5</h3>"
   ]
  },
  {
   "cell_type": "code",
   "execution_count": 531,
   "metadata": {
    "collapsed": true
   },
   "outputs": [],
   "source": [
    "import copy\n",
    "import numpy as np\n",
    "import matplotlib.pyplot as plt\n",
    "import random\n",
    "\n",
    "from numpy.linalg import inv\n",
    "\n",
    "def generate_dataset(num_of_points=10):\n",
    "    X = np.ones((num_of_points, 3)) # these are 1 because of x0 = 1 for the constant term\n",
    "    X[:, 1:] = np.random.uniform(-1, 1, (num_of_points, 2))\n",
    "    return X\n",
    "\n",
    "def classify(X, w):\n",
    "#     return 1.*(np.dot(X, w) > 0) # classify {0,1} => throws off the linear regression line\n",
    "    return np.sign(np.dot(X, w)) # classify {-1,1}"
   ]
  },
  {
   "cell_type": "code",
   "execution_count": 517,
   "metadata": {
    "collapsed": true
   },
   "outputs": [],
   "source": [
    "def plot_points(X, coeff, w, y):\n",
    "    plt.figure(figsize=[12,8])\n",
    "    x = np.arange(-2, 2, 0.2)\n",
    "    if coeff is not None:\n",
    "        plt.plot(x, (-coeff[1]*x - coeff[0])/coeff[2], 'b--')\n",
    "        plt.plot(x, (-w[1]*x - w[0])/w[2], 'r*-')\n",
    "\n",
    "    for num in xrange(len(y)):\n",
    "        if y[num] > 0:\n",
    "            plt.plot(X[num][1], X[num][2], 'bo')\n",
    "        else:\n",
    "            plt.plot(X[num][1], X[num][2], 'ro')\n",
    "\n",
    "    plt.xlim(-1,1)\n",
    "    plt.ylim(-1,1)\n",
    "    plt.show()"
   ]
  },
  {
   "cell_type": "code",
   "execution_count": 242,
   "metadata": {
    "collapsed": true
   },
   "outputs": [],
   "source": [
    "def get_average_num_iterations(num_runs=1, num_training_points=10, num_test_points=1000, plot=False):\n",
    "    num_iteration = 0\n",
    "    num_prob = 0\n",
    "    index = 0\n",
    "\n",
    "    while index < num_runs:\n",
    "        num_iteration_index, num_prob_index = pla_iterate(num_training_points, num_test_points, plot=plot)\n",
    "        num_iteration += num_iteration_index\n",
    "        num_prob += num_prob_index\n",
    "        index += 1\n",
    "\n",
    "    return num_iteration/float(num_runs), num_prob/float(num_runs)\n",
    "\n",
    "def pla_iterate(num_training_points, num_test_points, coeff=None, X=None, w=None, plot=False):\n",
    "    # create target function and training set\n",
    "    if coeff is None:\n",
    "        coeff = np.random.uniform(-1, 1, (3, 1))\n",
    "    if X is None:\n",
    "        X = generate_dataset(num_training_points)\n",
    "    y_true = classify(X, coeff)\n",
    "\n",
    "    # initialize weights\n",
    "    if w is None:\n",
    "        w = np.zeros((3, 1))\n",
    "\n",
    "    # inputs: X, w, y_true\n",
    "    (num_iterations, w) = get_weights_pla(X, w, y_true)\n",
    "    sample_error_prob = get_performance(num_test_points, coeff, w)\n",
    "\n",
    "    if plot:\n",
    "        plot_points(X, coeff, w)\n",
    "\n",
    "    return num_iterations, sample_error_prob"
   ]
  },
  {
   "cell_type": "code",
   "execution_count": 239,
   "metadata": {
    "collapsed": true
   },
   "outputs": [],
   "source": [
    "def get_weights_pla(X, w, y_true):\n",
    "    if X is None or w is None is y_true is None:\n",
    "        print \"X, w, y_true are empty\"\n",
    "        return\n",
    "    \n",
    "    num_iterations = 0\n",
    "    \n",
    "    while True:\n",
    "        y = classify(X, w)\n",
    "        error_indexes = copy.copy(np.where(y != y_true)[0]) # take first element because that contains the indices\n",
    "  \n",
    "        if len(error_indexes) > 0:\n",
    "            np.random.shuffle(error_indexes)\n",
    "            chosen_index = error_indexes[0]\n",
    "\n",
    "            chosen_x = X[chosen_index,:]\n",
    "            chosen_x = chosen_x.reshape(3,1) # need to reshape to create a column vector of these values\n",
    "            w = w + y_true[chosen_index] * chosen_x\n",
    "\n",
    "            num_iterations += 1\n",
    "        else:\n",
    "            break\n",
    "    \n",
    "    return (num_iterations, w)"
   ]
  },
  {
   "cell_type": "code",
   "execution_count": 256,
   "metadata": {
    "collapsed": true
   },
   "outputs": [],
   "source": [
    "def get_performance(num_test_points, coeff, w, X_test=None):\n",
    "    if X_test is None:\n",
    "        X_test = generate_dataset(num_test_points)\n",
    "    y_true = classify(X_test, coeff)\n",
    "    y = classify(X_test, w)\n",
    "    sample_error_prob = np.sum(y != y_true)/float(num_test_points)\n",
    "    \n",
    "    return sample_error_prob"
   ]
  },
  {
   "cell_type": "code",
   "execution_count": 257,
   "metadata": {
    "collapsed": true
   },
   "outputs": [],
   "source": [
    "def get_linear_regression_weights(num_training_points, y, X=None):\n",
    "    if X is None:\n",
    "        X = generate_dataset(num_training_points)\n",
    "    \n",
    "    pseudo_inv_X = np.dot(inv(np.dot(X.T, X)), X.T)\n",
    "    w = np.dot(pseudo_inv_X, y)\n",
    "    \n",
    "    return w"
   ]
  },
  {
   "cell_type": "code",
   "execution_count": 500,
   "metadata": {
    "collapsed": true
   },
   "outputs": [],
   "source": [
    "def get_average_sample_error(num_runs, num_training_points, num_test_points, plot=False):\n",
    "    in_sample_error = 0\n",
    "    out_sample_error = 0\n",
    "    iteration = 0\n",
    "        \n",
    "    while iteration < num_runs:\n",
    "        coeff = np.random.uniform(-1, 1, (3, 1))\n",
    "        \n",
    "        X = generate_dataset(num_training_points)\n",
    "        y = classify(X, coeff)\n",
    "        w = get_linear_regression_weights(num_training_points, y, X)\n",
    "        y_w = classify(X, w)\n",
    "        in_sample_error_iteration = np.sum(y != y_w) / float(num_training_points)\n",
    "        \n",
    "        if plot:\n",
    "            plot_points(X, coeff, w, y)\n",
    "\n",
    "#         X = generate_dataset(num_test_points)\n",
    "#         y = classify(X, coeff)\n",
    "#         y_w = classify(X, w)\n",
    "#         out_sample_error_iteration = np.sum(y != y_w) / float(num_test_points)\n",
    "\n",
    "        in_sample_error += in_sample_error_iteration\n",
    "#         out_sample_error += out_sample_error_iteration\n",
    "        \n",
    "        iteration += 1\n",
    "    \n",
    "#         if plot:\n",
    "#             plot_points(X, coeff, w, y)\n",
    "    return (in_sample_error / num_runs, out_sample_error / num_runs)"
   ]
  },
  {
   "cell_type": "code",
   "execution_count": 533,
   "metadata": {
    "collapsed": false
   },
   "outputs": [
    {
     "data": {
      "image/png": "[encoded data removed]",
      "text/plain": [
       "<matplotlib.figure.Figure at 0x115a37150>"
      ]
     },
     "metadata": {},
     "output_type": "display_data"
    },
    {
     "data": {
      "image/png": "[encoded data removed]",
      "text/plain": [
       "<matplotlib.figure.Figure at 0x113d81a10>"
      ]
     },
     "metadata": {},
     "output_type": "display_data"
    },
    {
     "name": "stdout",
     "output_type": "stream",
     "text": [
      "Ein = 0.04000, Eout = 0.04100\n"
     ]
    }
   ],
   "source": [
    "(Ein, Eout) = get_average_sample_error(num_runs=1, num_training_points=100, num_test_points=1000, plot=True)\n",
    "print \"Ein = %.5f, Eout = %.5f\" % (Ein, Eout) #problem 5 and 6 answer"
   ]
  },
  {
   "cell_type": "code",
   "execution_count": 504,
   "metadata": {
    "collapsed": false
   },
   "outputs": [],
   "source": [
    "def pla_iterate_with_lr(num_runs, num_training_points):\n",
    "    iter = 0\n",
    "    total_num_iterations = 0\n",
    "    avg_sample_prob = 0\n",
    "    \n",
    "    while iter < num_runs:\n",
    "        iter += 1\n",
    "        coeff = np.random.uniform(-1, 1, (3, 1))\n",
    "        X = generate_dataset(num_training_points)\n",
    "        y = classify(X, coeff)\n",
    "        initial_w = get_linear_regression_weights(num_training_points, y, X)\n",
    "        (num_iterations, sample_prob) = pla_iterate(1000, 10, coeff, X, initial_w, plot=False)\n",
    "        total_num_iterations += num_iterations\n",
    "        avg_sample_prob += sample_prob\n",
    "        \n",
    "    print \"AVERAGE # with initial weights from LR: \", total_num_iterations / float(num_runs)\n",
    "    print \"Probability of Error \", avg_sample_prob/float(num_runs)"
   ]
  },
  {
   "cell_type": "code",
   "execution_count": 503,
   "metadata": {
    "collapsed": false
   },
   "outputs": [
    {
     "name": "stdout",
     "output_type": "stream",
     "text": [
      "AVERAGE # with initial weights from LR:  708.383\n",
      "Probability of Error  0.0012\n"
     ]
    }
   ],
   "source": [
    "pla_iterate_with_lr(num_runs=1000, num_training_points=1000)"
   ]
  },
  {
   "cell_type": "code",
   "execution_count": 250,
   "metadata": {
    "collapsed": false
   },
   "outputs": [
    {
     "name": "stdout",
     "output_type": "stream",
     "text": [
      "AVERAGE #  781.051\n",
      "Probability of Error  0.001134\n"
     ]
    }
   ],
   "source": [
    "average_num, prob_of_error = get_average_num_iterations(num_runs=1000, num_training_points=1000, num_test_points=1000)\n",
    "print \"AVERAGE # \", average_num\n",
    "print \"Probability of Error \", prob_of_error"
   ]
  },
  {
   "cell_type": "code",
   "execution_count": 505,
   "metadata": {
    "collapsed": false
   },
   "outputs": [
    {
     "name": "stdout",
     "output_type": "stream",
     "text": [
      "AVERAGE # with initial weights from LR:  2.726\n",
      "Probability of Error  0.0776\n"
     ]
    }
   ],
   "source": [
    "pla_iterate_with_lr(num_runs=1000, num_training_points=10)"
   ]
  },
  {
   "cell_type": "markdown",
   "metadata": {},
   "source": [
    "<h5>NOTE: Need to look into these results because it looks like the initial weights don't really help. Weird...</h5>"
   ]
  },
  {
   "cell_type": "markdown",
   "metadata": {},
   "source": [
    "<h1>Problem 8 - 10</h1>"
   ]
  },
  {
   "cell_type": "code",
   "execution_count": 299,
   "metadata": {
    "collapsed": false
   },
   "outputs": [],
   "source": [
    "import random\n",
    "import copy\n",
    "\n",
    "def add_noise(y, ratio_affected):\n",
    "    affected_indices = random.sample(range(0, len(y)), int(ratio_affected * len(y)))\n",
    "    y_noisy = copy.copy(y)\n",
    "    y_noisy[affected_indices] *= -1\n",
    "    \n",
    "    return y_noisy"
   ]
  },
  {
   "cell_type": "code",
   "execution_count": 361,
   "metadata": {
    "collapsed": true
   },
   "outputs": [],
   "source": [
    "def classify_lr(X):\n",
    "    y = np.sign(np.power(X[:,1], 2) + np.power(X[:,2], 2) - 0.6)\n",
    "\n",
    "    return y"
   ]
  },
  {
   "cell_type": "code",
   "execution_count": 446,
   "metadata": {
    "collapsed": false
   },
   "outputs": [],
   "source": [
    "def get_in_sample_error_lin_feature(num_training_points=1000, ratio_affected=0.1):\n",
    "    X = generate_dataset(num_training_points)\n",
    "    y = classify_lr(X)\n",
    "    y_noisy = add_noise(y, ratio_affected)\n",
    "    w = get_linear_regression_weights(num_training_points, y_noisy, X)\n",
    "    \n",
    "    Ein = np.sum(np.sign(np.dot(X,w)) - y_noisy) / float(num_training_points)\n",
    "    \n",
    "#     plot_points(X, None, w, y)\n",
    "#     plot_points(X, None, w, y_noisy)\n",
    "        \n",
    "    return Ein"
   ]
  },
  {
   "cell_type": "code",
   "execution_count": 447,
   "metadata": {
    "collapsed": false
   },
   "outputs": [],
   "source": [
    "def get_average_in_sample_error_lin_feature(num_runs, num_training_points, ratio_affected):\n",
    "    Ein_avg = 0\n",
    "    for iter in xrange(num_runs):\n",
    "        Ein_avg += get_in_sample_error_lin_feature(num_training_points, ratio_affected)\n",
    "\n",
    "    print Ein_avg / num_runs"
   ]
  },
  {
   "cell_type": "code",
   "execution_count": 448,
   "metadata": {
    "collapsed": false
   },
   "outputs": [
    {
     "name": "stdout",
     "output_type": "stream",
     "text": [
      "0.581666\n"
     ]
    }
   ],
   "source": [
    "get_average_in_sample_error_lin_feature(num_runs=1000, num_training_points=1000, ratio_affected=0.1)\n"
   ]
  },
  {
   "cell_type": "markdown",
   "metadata": {},
   "source": [
    "<h2>Problem 9</h2>"
   ]
  },
  {
   "cell_type": "code",
   "execution_count": 321,
   "metadata": {
    "collapsed": true
   },
   "outputs": [],
   "source": [
    "def generate_dataset_nonlinear_feature(X):\n",
    "    X_nonlin = np.ones((len(X), 6))\n",
    "    X_nonlin[:,1] = X[:,1]\n",
    "    X_nonlin[:,2] = X[:,2]\n",
    "    X_nonlin[:,3] = X[:,1] * X[:,2]\n",
    "    X_nonlin[:,4] = np.power(X[:,1], 2)\n",
    "    X_nonlin[:,5] = np.power(X[:,2], 2)\n",
    "    \n",
    "    return X_nonlin"
   ]
  },
  {
   "cell_type": "code",
   "execution_count": 449,
   "metadata": {
    "collapsed": false
   },
   "outputs": [
    {
     "name": "stdout",
     "output_type": "stream",
     "text": [
      "[-0.99845856  0.0620922  -0.01773665 -0.0403342   1.5407372   1.59296093]\n",
      "[-0.98712246  0.00515312 -0.04500681 -0.11433643  1.52353101  1.53542472]\n",
      "[ -1.01000483e+00   9.11412922e-04   2.57121745e-02   2.06336877e-02\n",
      "   1.56543211e+00   1.61912158e+00]\n",
      "[-0.97671412  0.05281048  0.06490659 -0.01531493  1.58228256  1.58464021]\n",
      "[-0.97432374  0.03458336 -0.0531997   0.01131101  1.57948582  1.52001844]\n",
      "[-1.00118831 -0.0213631  -0.07167365 -0.02800113  1.44044157  1.63500189]\n",
      "[-0.95653085  0.01051859 -0.04032545 -0.04911893  1.54480899  1.55848904]\n",
      "[-1.0112037   0.00672481  0.01614672 -0.02428697  1.50843015  1.60605293]\n",
      "[ -9.67670243e-01   5.56946719e-02  -2.05343942e-04   2.42067415e-02\n",
      "   1.50563121e+00   1.54484133e+00]\n",
      "[-1.00896891 -0.04347294  0.03153246  0.07295235  1.60119536  1.57942882]\n"
     ]
    }
   ],
   "source": [
    "for iter in xrange(10):\n",
    "    num_training_points = 1000\n",
    "    ratio_affected = 0.10\n",
    "    X = generate_dataset(num_training_points)\n",
    "    X_nonlin = generate_dataset_nonlinear_feature(X)\n",
    "    y = classify_lr(X)\n",
    "    y_noisy = add_noise(y, ratio_affected)\n",
    "    w = get_linear_regression_weights(num_training_points, y_noisy, X_nonlin)\n",
    "    \n",
    "    print w"
   ]
  },
  {
   "cell_type": "markdown",
   "metadata": {},
   "source": [
    "<h2>Problem 10</h2>"
   ]
  },
  {
   "cell_type": "code",
   "execution_count": 461,
   "metadata": {
    "collapsed": false
   },
   "outputs": [],
   "source": [
    "def get_out_sample_error(num_training_points, num_test_points, ratio_affected):\n",
    "    X = generate_dataset(num_training_points)\n",
    "    X_nonlin = generate_dataset_nonlinear_feature(X)\n",
    "    y = classify_lr(X)\n",
    "    y_noisy = add_noise(y, ratio_affected)\n",
    "    w = get_linear_regression_weights(num_training_points, y_noisy, X_nonlin)\n",
    "\n",
    "    # test set\n",
    "    X_test = generate_dataset(num_test_points)\n",
    "    X_test_nonlin = generate_dataset_nonlinear_feature(X_test)\n",
    "    y = classify_lr(X_test)\n",
    "    y_noisy = add_noise(y, ratio_affected)\n",
    "    Eout = np.sum(np.sign(np.dot(X_test_nonlin, w) - y)) / num_test_points\n",
    "    \n",
    "    return Eout"
   ]
  },
  {
   "cell_type": "code",
   "execution_count": 459,
   "metadata": {
    "collapsed": true
   },
   "outputs": [],
   "source": [
    "def get_average_out_sample_error(num_runs, num_training_points, num_test_points, ratio_affected):\n",
    "    Eout_avg = 0\n",
    "    for iter in xrange(num_runs):\n",
    "        Eout_avg += get_out_sample_error(num_training_points, num_test_points, ratio_affected)\n",
    "    \n",
    "    return Eout_avg / num_runs"
   ]
  },
  {
   "cell_type": "code",
   "execution_count": 464,
   "metadata": {
    "collapsed": false
   },
   "outputs": [],
   "source": [
    "num_training_points = 1000\n",
    "num_test_points = 1000\n",
    "ratio_affected = 0.10\n",
    "num_runs = 1000\n",
    "Eout_avg = get_average_out_sample_error(num_runs, num_training_points, num_test_points, ratio_affected)"
   ]
  },
  {
   "cell_type": "code",
   "execution_count": 465,
   "metadata": {
    "collapsed": false
   },
   "outputs": [
    {
     "name": "stdout",
     "output_type": "stream",
     "text": [
      "0.110698\n"
     ]
    }
   ],
   "source": [
    "print Eout_avg"
   ]
  }
 ],
 "metadata": {
  "kernelspec": {
   "display_name": "Python 2",
   "language": "python",
   "name": "python2"
  },
  "language_info": {
   "codemirror_mode": {
    "name": "ipython",
    "version": 2
   },
   "file_extension": ".py",
   "mimetype": "text/x-python",
   "name": "python",
   "nbconvert_exporter": "python",
   "pygments_lexer": "ipython2",
   "version": "2.7.10"
  }
 },
 "nbformat": 4,
 "nbformat_minor": 0
}
